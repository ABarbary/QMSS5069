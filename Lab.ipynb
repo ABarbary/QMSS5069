{
 "cells": [
  {
   "cell_type": "markdown",
   "metadata": {
    "application/vnd.databricks.v1+cell": {
     "cellMetadata": {},
     "inputWidgets": {},
     "nuid": "7b00fd93-fb58-4884-a512-0f03e306c624",
     "showTitle": false,
     "title": ""
    }
   },
   "source": [
    "## Kaixuan Wang\n",
    "## Lab #2"
   ]
  },
  {
   "cell_type": "code",
   "execution_count": 0,
   "metadata": {
    "application/vnd.databricks.v1+cell": {
     "cellMetadata": {},
     "inputWidgets": {},
     "nuid": "8d4a93dd-ba1e-4528-ab71-24672a61f673",
     "showTitle": false,
     "title": ""
    }
   },
   "outputs": [],
   "source": [
    "print (\"Hello World\")"
   ]
  },
  {
   "cell_type": "code",
   "execution_count": 0,
   "metadata": {
    "application/vnd.databricks.v1+cell": {
     "cellMetadata": {},
     "inputWidgets": {},
     "nuid": "5da79d6e-9dda-426f-aadb-742317cf52b7",
     "showTitle": false,
     "title": ""
    }
   },
   "outputs": [],
   "source": [
    "from __future__ import division\n",
    "import pandas as pd\n",
    "import numpy as np\n",
    "import statsmodels.api as sm\n",
    "import statsmodels.formula.api as smf\n",
    "import os\n",
    "import matplotlib.pyplot as plt"
   ]
  },
  {
   "cell_type": "code",
   "execution_count": 0,
   "metadata": {
    "application/vnd.databricks.v1+cell": {
     "cellMetadata": {},
     "inputWidgets": {},
     "nuid": "d8575f4b-9f3c-4810-936f-bab54d1ade9b",
     "showTitle": false,
     "title": ""
    }
   },
   "outputs": [],
   "source": [
    "os.chdir('/Users/jessiewang/Desktop/QMSS/5015 Data Analysis/Lab 1') # change working directory\n",
    "d = pd.read_csv(\"GSS.2006.csv\")\n",
    "print(d.head())"
   ]
  },
  {
   "cell_type": "markdown",
   "metadata": {
    "application/vnd.databricks.v1+cell": {
     "cellMetadata": {},
     "inputWidgets": {},
     "nuid": "44ff70b5-540d-4b6f-af90-117003e8192e",
     "showTitle": false,
     "title": ""
    }
   },
   "source": [
    "## 1. Recode 2 variable into new categories.  They can both be continuous-ish or both be nominal-ish, or one of each.  Tell me what you did and explain the variable(s).\n"
   ]
  },
  {
   "cell_type": "markdown",
   "metadata": {
    "application/vnd.databricks.v1+cell": {
     "cellMetadata": {},
     "inputWidgets": {},
     "nuid": "c3280788-ddfd-4e63-b9a5-3b8fb3c0ca18",
     "showTitle": false,
     "title": ""
    }
   },
   "source": [
    "## Create a number of categories for religious attendance: low, medium, high ##"
   ]
  },
  {
   "cell_type": "code",
   "execution_count": 0,
   "metadata": {
    "application/vnd.databricks.v1+cell": {
     "cellMetadata": {},
     "inputWidgets": {},
     "nuid": "b17a024d-6841-4ff6-89a3-eed1f086b47b",
     "showTitle": false,
     "title": ""
    }
   },
   "outputs": [],
   "source": []
  },
  {
   "cell_type": "code",
   "execution_count": 0,
   "metadata": {
    "application/vnd.databricks.v1+cell": {
     "cellMetadata": {},
     "inputWidgets": {},
     "nuid": "c3c94bf5-52a7-46c1-bc3c-bf37f1121f3f",
     "showTitle": false,
     "title": ""
    }
   },
   "outputs": [],
   "source": [
    "## 3 options of low, medium, high ##\n",
    "\n",
    "conditions = [\n",
    "    (d['hrsrelax'] < 9) ,\n",
    "    (d['hrsrelax'] > 8) & (d['hrsrelax'] <17) ,\n",
    "    (d['hrsrelax'] > 16)]\n",
    "choices = [1, 2, 3]\n",
    "d['cut'] = np.select(conditions, choices, default=np.nan)\n",
    "d.cut.describe()"
   ]
  },
  {
   "cell_type": "code",
   "execution_count": 0,
   "metadata": {
    "application/vnd.databricks.v1+cell": {
     "cellMetadata": {},
     "inputWidgets": {},
     "nuid": "2fde8078-441f-4a7e-9add-0ce8c38ab65b",
     "showTitle": false,
     "title": ""
    }
   },
   "outputs": [],
   "source": [
    "# Look at the results\n",
    "\n",
    "d.cut.describe()"
   ]
  },
  {
   "cell_type": "code",
   "execution_count": 0,
   "metadata": {
    "application/vnd.databricks.v1+cell": {
     "cellMetadata": {},
     "inputWidgets": {},
     "nuid": "b585767c-57de-4bf6-a12b-d469db8a92dd",
     "showTitle": false,
     "title": ""
    },
    "scrolled": true
   },
   "outputs": [],
   "source": [
    "## How many of each category are there?\n",
    "\n",
    "d.cut.value_counts()"
   ]
  },
  {
   "cell_type": "markdown",
   "metadata": {
    "application/vnd.databricks.v1+cell": {
     "cellMetadata": {},
     "inputWidgets": {},
     "nuid": "03647ef6-fb9c-4df5-9017-decaffb66958",
     "showTitle": false,
     "title": ""
    }
   },
   "source": [
    "## Check the recoding:  It is \"1\" for categories less than 3, it is \"2\" for categories from 3 to 5, and it is \"3\" for categories greater than 5."
   ]
  },
  {
   "cell_type": "code",
   "execution_count": 0,
   "metadata": {
    "application/vnd.databricks.v1+cell": {
     "cellMetadata": {},
     "inputWidgets": {},
     "nuid": "6673b7ad-0b9e-471f-9de2-ef6bdcf97d14",
     "showTitle": false,
     "title": ""
    },
    "scrolled": true
   },
   "outputs": [],
   "source": [
    "res = pd.crosstab(d.attend, d.cut)\n",
    "res.astype('float').div(res.sum(axis=0), axis=1)"
   ]
  },
  {
   "cell_type": "code",
   "execution_count": 0,
   "metadata": {
    "application/vnd.databricks.v1+cell": {
     "cellMetadata": {},
     "inputWidgets": {},
     "nuid": "b1f63888-958c-48f0-88f3-9eb1792fd9e4",
     "showTitle": false,
     "title": ""
    }
   },
   "outputs": [],
   "source": [
    "#Simply another way to do the same thing as above:  A nice function someone wrote to do the same thing:\n",
    "\n",
    "def binning(col, cut_points, labels=None):\n",
    "  #Define min and max values:\n",
    "  minval = col.min()\n",
    "  maxval = col.max()\n",
    "\n",
    "  #create list by adding min and max to cut_points\n",
    "  break_points = [minval] + cut_points + [maxval]\n",
    "\n",
    "  #if no labels provided, use default labels 0 ... (n-1)\n",
    "  if not labels:\n",
    "    labels = range(len(cut_points)+1)\n",
    "\n",
    "  #Binning using cut function of pandas\n",
    "  colBin = pd.cut(col,bins=break_points,labels=labels,include_lowest=True)\n",
    "  return colBin\n",
    "\n",
    "#Binning attend:\n",
    "\n",
    "cut_points = [2,5]\n",
    "labels = [\"low\",\"medium\",\"high\"]\n",
    "d[\"attend_cut\"] = binning(d[\"attend\"], cut_points, labels)\n",
    "##print pd.value_counts(d[\"attend_cut\"], sort=False)##\n"
   ]
  },
  {
   "cell_type": "code",
   "execution_count": 0,
   "metadata": {
    "application/vnd.databricks.v1+cell": {
     "cellMetadata": {},
     "inputWidgets": {},
     "nuid": "a3110ec2-8737-4c62-bb2d-4ebcebbb37c9",
     "showTitle": false,
     "title": ""
    },
    "scrolled": true
   },
   "outputs": [],
   "source": [
    "## See it works the same way...\n",
    "\n",
    "summary = d.attend_cut.describe()\n",
    "summary = summary.transpose()\n",
    "summary"
   ]
  },
  {
   "cell_type": "code",
   "execution_count": 0,
   "metadata": {
    "application/vnd.databricks.v1+cell": {
     "cellMetadata": {},
     "inputWidgets": {},
     "nuid": "8c8bd01f-cc3c-4ca9-921a-59367074013b",
     "showTitle": false,
     "title": ""
    },
    "scrolled": true
   },
   "outputs": [],
   "source": [
    "## See it works the same way...\n",
    "\n",
    "d.attend_cut.value_counts()"
   ]
  },
  {
   "cell_type": "code",
   "execution_count": 0,
   "metadata": {
    "application/vnd.databricks.v1+cell": {
     "cellMetadata": {},
     "inputWidgets": {},
     "nuid": "0221716d-ceb5-47c9-8c55-c6d93559f970",
     "showTitle": false,
     "title": ""
    },
    "scrolled": true
   },
   "outputs": [],
   "source": [
    "## See it works the same way...\n",
    "\n",
    "res = pd.crosstab(d.attend, d.attend_cut)\n",
    "res.astype('float').div(res.sum(axis=0), axis=1)"
   ]
  },
  {
   "cell_type": "markdown",
   "metadata": {
    "application/vnd.databricks.v1+cell": {
     "cellMetadata": {},
     "inputWidgets": {},
     "nuid": "271d4b78-2279-4c55-a448-4108eabdb9ed",
     "showTitle": false,
     "title": ""
    }
   },
   "source": [
    "## Below is a binary recode, where we make it 1 if \"How often do you attend religious services?\" is everything as frequent as 4 or more, which is About once a month or more, 0 otherwise"
   ]
  },
  {
   "cell_type": "code",
   "execution_count": 0,
   "metadata": {
    "application/vnd.databricks.v1+cell": {
     "cellMetadata": {},
     "inputWidgets": {},
     "nuid": "808b696d-75ba-4bbc-9be6-dfafa5508552",
     "showTitle": false,
     "title": ""
    }
   },
   "outputs": [],
   "source": [
    "##Simple binary cut##\n",
    "\n",
    "conditions = [\n",
    "    (d['attend'] < 5) ,\n",
    "    (d['attend'] >4 )]\n",
    "choices = [0,1]\n",
    "d['high'] = np.select(conditions, choices, default=np.nan)"
   ]
  },
  {
   "cell_type": "markdown",
   "metadata": {
    "application/vnd.databricks.v1+cell": {
     "cellMetadata": {},
     "inputWidgets": {},
     "nuid": "a2a615b7-0345-4671-a55f-d142fcfbcb38",
     "showTitle": false,
     "title": ""
    }
   },
   "source": [
    "## Check the recoding:  It is 0 for all categories less than 5 and 1 for everything greater than or equal to 5"
   ]
  },
  {
   "cell_type": "code",
   "execution_count": 0,
   "metadata": {
    "application/vnd.databricks.v1+cell": {
     "cellMetadata": {},
     "inputWidgets": {},
     "nuid": "022abd1c-ec29-4278-a591-f9b664a141e9",
     "showTitle": false,
     "title": ""
    },
    "scrolled": true
   },
   "outputs": [],
   "source": [
    "res = pd.crosstab(d.attend, d.high)\n",
    "res.astype('float').div(res.sum(axis=0), axis=1)"
   ]
  },
  {
   "cell_type": "markdown",
   "metadata": {
    "application/vnd.databricks.v1+cell": {
     "cellMetadata": {},
     "inputWidgets": {},
     "nuid": "05ba6a6f-0871-4c88-abb3-cf9ecf92a42d",
     "showTitle": false,
     "title": ""
    }
   },
   "source": [
    "## Let's look at another variable - ## this is a question about \"To what extent do you agree or disagree with the following statements? I see myself as someone who... c. Does a thorough job\", with 1 being strongly agree and 5 being strongly disagree."
   ]
  },
  {
   "cell_type": "code",
   "execution_count": 0,
   "metadata": {
    "application/vnd.databricks.v1+cell": {
     "cellMetadata": {},
     "inputWidgets": {},
     "nuid": "47b58604-7997-4aa7-8794-05e496328f7a",
     "showTitle": false,
     "title": ""
    },
    "scrolled": false
   },
   "outputs": [],
   "source": [
    "## Table 2 ##\n",
    "\n",
    "my_tab = pd.crosstab(index=d[\"big5c1\"],  # Make a crosstab\n",
    "                              columns=\"count\")     \n",
    "def compute_percentage(x):\n",
    "      pct = float(x/my_tab['count'].sum()) * 100\n",
    "      return round(pct, 2)\n",
    "\n",
    "my_tab['percentage'] = my_tab.apply(compute_percentage, axis=1)\n",
    "\n",
    "my_tab"
   ]
  },
  {
   "cell_type": "code",
   "execution_count": 0,
   "metadata": {
    "application/vnd.databricks.v1+cell": {
     "cellMetadata": {},
     "inputWidgets": {},
     "nuid": "cbcb73e7-5555-44d4-8050-9358b835404c",
     "showTitle": false,
     "title": ""
    },
    "scrolled": false
   },
   "outputs": [],
   "source": [
    "d.hist(column='big5c1')"
   ]
  },
  {
   "cell_type": "markdown",
   "metadata": {
    "application/vnd.databricks.v1+cell": {
     "cellMetadata": {},
     "inputWidgets": {},
     "nuid": "446e4ce7-b9b1-435a-a567-286f23a53ca3",
     "showTitle": false,
     "title": ""
    }
   },
   "source": [
    "##  People who say they strongly agree are coded 1 for thorough, otherwise 0."
   ]
  },
  {
   "cell_type": "code",
   "execution_count": 0,
   "metadata": {
    "application/vnd.databricks.v1+cell": {
     "cellMetadata": {},
     "inputWidgets": {},
     "nuid": "34d839f3-a880-48eb-a4d1-bd30b7af371e",
     "showTitle": false,
     "title": ""
    }
   },
   "outputs": [],
   "source": [
    "conditions = [\n",
    "    (d['big5c1'] < 2) ,\n",
    "    (d['big5c1'] >=2 )]\n",
    "choices = [1,0]\n",
    "d['thorough'] = np.select(conditions, choices, default=np.nan)"
   ]
  },
  {
   "cell_type": "code",
   "execution_count": 0,
   "metadata": {
    "application/vnd.databricks.v1+cell": {
     "cellMetadata": {},
     "inputWidgets": {},
     "nuid": "aceadcb5-0a6e-4b8c-a83d-980114c2a49b",
     "showTitle": false,
     "title": ""
    }
   },
   "outputs": [],
   "source": [
    "my_tab_thor = pd.crosstab(index=d[\"thorough\"],  # Make a crosstab\n",
    "                              columns=\"count\")     \n",
    "\n",
    "def compute_percentage(x):\n",
    "      pct = float(x/my_tab['count'].sum()) * 100\n",
    "      return round(pct, 2)\n",
    "\n",
    "my_tab_thor['percentage'] = my_tab_thor.apply(compute_percentage, axis=1)\n",
    "\n",
    "my_tab_thor"
   ]
  },
  {
   "cell_type": "markdown",
   "metadata": {
    "application/vnd.databricks.v1+cell": {
     "cellMetadata": {},
     "inputWidgets": {},
     "nuid": "f6719af6-a806-4295-955a-74b47a8e096a",
     "showTitle": false,
     "title": ""
    }
   },
   "source": [
    "## 2. Use one (or both) of your recoded variables to do a cross-tabulation.  Explain your results."
   ]
  },
  {
   "cell_type": "markdown",
   "metadata": {
    "application/vnd.databricks.v1+cell": {
     "cellMetadata": {},
     "inputWidgets": {},
     "nuid": "9666d4b5-07be-4a77-9f4a-6b42cf258233",
     "showTitle": false,
     "title": ""
    }
   },
   "source": [
    "## The below results indicate that being more thorough is not associated with going to religious services more (low-religious people are thorough at 48.5%, while high religious people are thorough at 49.7% ~ essentially the same), which is contrary to what some psychological theories would have predicted"
   ]
  },
  {
   "cell_type": "code",
   "execution_count": 0,
   "metadata": {
    "application/vnd.databricks.v1+cell": {
     "cellMetadata": {},
     "inputWidgets": {},
     "nuid": "7f86c5f1-8970-4674-ab98-5bc4b524c825",
     "showTitle": false,
     "title": ""
    },
    "scrolled": true
   },
   "outputs": [],
   "source": [
    "res = pd.crosstab(d.thorough, d.high)\n",
    "res.astype('float').div(res.sum(axis=0), axis=1)"
   ]
  },
  {
   "cell_type": "markdown",
   "metadata": {
    "application/vnd.databricks.v1+cell": {
     "cellMetadata": {},
     "inputWidgets": {},
     "nuid": "e5151fa1-834a-4e98-b175-54811acf2a30",
     "showTitle": false,
     "title": ""
    }
   },
   "source": [
    "## BTW: You can use pandas \"crosstab\" function to get column percentages now"
   ]
  },
  {
   "cell_type": "code",
   "execution_count": 0,
   "metadata": {
    "application/vnd.databricks.v1+cell": {
     "cellMetadata": {},
     "inputWidgets": {},
     "nuid": "e2b46465-0dca-462a-9242-5c0f75352267",
     "showTitle": false,
     "title": ""
    }
   },
   "outputs": [],
   "source": [
    "res.p = pd.crosstab(d['thorough'], d['high'], normalize='columns')\n",
    "res.p"
   ]
  },
  {
   "cell_type": "markdown",
   "metadata": {
    "application/vnd.databricks.v1+cell": {
     "cellMetadata": {},
     "inputWidgets": {},
     "nuid": "84c4c0e8-ee12-4fc0-ba4e-1dac1a173d9f",
     "showTitle": false,
     "title": ""
    }
   },
   "source": [
    "## 3. Run a linear regression with 1 independent and 1 dependent variable; make all of the recodes necessary to make the model as easy to interpret as possible; and explain your results."
   ]
  },
  {
   "cell_type": "markdown",
   "metadata": {
    "application/vnd.databricks.v1+cell": {
     "cellMetadata": {},
     "inputWidgets": {},
     "nuid": "05fb8c75-6f9b-4f1a-b20d-58ae9131c40a",
     "showTitle": false,
     "title": ""
    }
   },
   "source": [
    "## Asking the question: How do you think one's hours should be related to one's spouse's hours?"
   ]
  },
  {
   "cell_type": "code",
   "execution_count": 0,
   "metadata": {
    "application/vnd.databricks.v1+cell": {
     "cellMetadata": {},
     "inputWidgets": {},
     "nuid": "82fd1c43-2345-4e19-85be-8f219743a821",
     "showTitle": false,
     "title": ""
    },
    "scrolled": true
   },
   "outputs": [],
   "source": [
    "lm = smf.ols(formula = 'hrs1~sphrs1', data = d).fit()\n",
    "print (lm.summary()) "
   ]
  },
  {
   "cell_type": "markdown",
   "metadata": {
    "application/vnd.databricks.v1+cell": {
     "cellMetadata": {},
     "inputWidgets": {},
     "nuid": "5fa6b984-1d16-414f-9e70-af3f932b5237",
     "showTitle": false,
     "title": ""
    }
   },
   "source": [
    "## Conclusion: Knowing your spouse's hours at work do not help predicting your hours at work.  A coefficient of 0.04662 indicates no obvious relationship between my hours and my spouse's hours."
   ]
  },
  {
   "cell_type": "markdown",
   "metadata": {
    "application/vnd.databricks.v1+cell": {
     "cellMetadata": {},
     "inputWidgets": {},
     "nuid": "062f3620-77a2-47f4-890d-a622f9ae6531",
     "showTitle": false,
     "title": ""
    }
   },
   "source": [
    "## 4. Plot two variables, either as a scatter plot or boxplot; add in trend/regression lines; and explain your results."
   ]
  },
  {
   "cell_type": "markdown",
   "metadata": {
    "application/vnd.databricks.v1+cell": {
     "cellMetadata": {},
     "inputWidgets": {},
     "nuid": "1be9c42c-253d-48d6-9efb-63a38d13b452",
     "showTitle": false,
     "title": ""
    }
   },
   "source": [
    "## Here is plotting of sphrs1 against hrs1 using seaborn:"
   ]
  },
  {
   "cell_type": "code",
   "execution_count": 0,
   "metadata": {
    "application/vnd.databricks.v1+cell": {
     "cellMetadata": {},
     "inputWidgets": {},
     "nuid": "b5c127ff-e526-486b-ae7d-898f0ad9f717",
     "showTitle": false,
     "title": ""
    },
    "scrolled": true
   },
   "outputs": [],
   "source": [
    "import seaborn as sns\n",
    "sns.regplot(d['hrs1'],d['sphrs1'])"
   ]
  }
 ],
 "metadata": {
  "application/vnd.databricks.v1+notebook": {
   "dashboards": [],
   "language": "python",
   "notebookMetadata": {
    "pythonIndentUnit": 4
   },
   "notebookName": "Lab",
   "widgets": {}
  },
  "kernelspec": {
   "display_name": "Python 3 (ipykernel)",
   "language": "python",
   "name": "python3"
  },
  "language_info": {
   "codemirror_mode": {
    "name": "ipython",
    "version": 3
   },
   "file_extension": ".py",
   "mimetype": "text/x-python",
   "name": "python",
   "nbconvert_exporter": "python",
   "pygments_lexer": "ipython3",
   "version": "3.11.4"
  }
 },
 "nbformat": 4,
 "nbformat_minor": 0
}
